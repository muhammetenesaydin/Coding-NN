{
 "cells": [
  {
   "cell_type": "code",
   "execution_count": 46,
   "metadata": {},
   "outputs": [],
   "source": [
    "import numpy as np \n"
   ]
  },
  {
   "cell_type": "code",
   "execution_count": 47,
   "metadata": {},
   "outputs": [],
   "source": [
    "def sigmoid (x):\n",
    "    return 1/(1+np.exp(-x))"
   ]
  },
  {
   "cell_type": "code",
   "execution_count": 48,
   "metadata": {},
   "outputs": [],
   "source": [
    "def deriv_sigmoid (x):\n",
    "    return sigmoid(x)*(1-sigmoid(x))"
   ]
  },
  {
   "cell_type": "code",
   "execution_count": 49,
   "metadata": {},
   "outputs": [],
   "source": [
    "def mse_loss(y_true, y_pred):\n",
    "    return ((y_true-y_pred)**2).mean()"
   ]
  },
  {
   "cell_type": "code",
   "execution_count": 50,
   "metadata": {},
   "outputs": [],
   "source": [
    "class ANN:\n",
    "    \"\"\"\n",
    "    A nerural network with:\n",
    "      -2 inputs \n",
    "       A Hidden Layer With 2 Neurons\n",
    "       An output layer with 1 neurons \n",
    "    \"\"\"    \n",
    "    def __init__(self) -> None :\n",
    "        #weights  #Ağırlıklar  \n",
    "        self.w1=np.random.normal()\n",
    "        self.w2=np.random.normal()\n",
    "        self.w3=np.random.normal()\n",
    "        self.w4=np.random.normal()\n",
    "        self.w5=np.random.normal()\n",
    "        self.w6=np.random.normal()\n",
    "\n",
    "\n",
    "        # Biases  # Sapmalar\n",
    "        self.b1 = np.random.normal()\n",
    "        self.b2 =np.random.normal()\n",
    "        self.b3=np.random.normal()\n",
    "\n",
    "    def feedForward(self,x):\n",
    "        h1=sigmoid(self.w1*x[0] + self.w2*x[1] + self.b1)\n",
    "        h2=sigmoid(self.w3*x[0] + self.w4*x[1] + self.b2)\n",
    "        o3=sigmoid(self.w5*h1 + self.w6*h2 + self.b3)  \n",
    "        return o3\n",
    "\n",
    "        \n",
    "    def train (self,data ,all_y_trues):\n",
    "        \"\"\" \n",
    "        - data          = samples in the dataset.\n",
    "        - all_y_trues   = a numpy array  with n elements. \n",
    "        \"\"\"\n",
    "        lr=0.1\n",
    "        epochs =1000\n",
    "\n",
    "        for epoch in range (epochs):\n",
    "            for x, y_true  in zip(data,all_y_trues):\n",
    "\n",
    "                #feedForward \n",
    "                sum_h1=self .w1*x[0] + self.w2*x[1] + self.b1\n",
    "                h1=sigmoid(sum_h1)\n",
    "\n",
    "                sum_h2=self.w3*x[0] + self.w4*x[1] + self.b2\n",
    "                h2=sigmoid(sum_h2) \n",
    "\n",
    "                sum_o1=self.w5*h1 + self.w6*h2 + self.b1\n",
    "                o1=sigmoid(sum_o1)\n",
    "                y_pred =o1\n",
    "\n",
    "\n",
    "\n",
    "\n",
    "                d_L_d_ypred= -2*(y_true-y_pred)\n",
    "\n",
    "                #Neuron o1\n",
    "                d_ypred_d_w5 = h1* deriv_sigmoid(sum_o1)\n",
    "                d_ypred_d_w6 = h2* deriv_sigmoid(sum_o1)\n",
    "                d_ypred_d_b3 = deriv_sigmoid(sum_o1)\n",
    "\n",
    "                d_ypred_d_h1 = self.w5 * deriv_sigmoid(sum_o1)\n",
    "                d_ypred_d_h2 = self.w6 * deriv_sigmoid(sum_o1)\n",
    "\n",
    "                # neuron h1\n",
    "                d_h1_d_w1 = x[0]* deriv_sigmoid(sum_h1)\n",
    "                d_h1_d_w2 = x[1]* deriv_sigmoid(sum_h1)\n",
    "                d_h1_d_b1 = deriv_sigmoid(sum_h1)\n",
    "\n",
    "                # neuron h2\n",
    "                d_h2_d_w3 = x[0] * deriv_sigmoid(sum_h2)\n",
    "                d_h2_d_w4 = x[1] * deriv_sigmoid(sum_h2)\n",
    "                d_h2_d_b2 = deriv_sigmoid(sum_h2)\n",
    "\n",
    "                \n",
    "                 # Neuron H1\n",
    "                self.w1 -= lr * d_L_d_ypred * d_ypred_d_h1 * d_h1_d_w1   \n",
    "                self.w2 -= lr * d_L_d_ypred * d_ypred_d_h1 * d_h1_d_w2\n",
    "                self.b1 -= lr * d_L_d_ypred * d_ypred_d_h1 * d_h1_d_b1\n",
    "\n",
    "                # Neuron H2\n",
    "                self.w3 -= lr * d_L_d_ypred * d_ypred_d_h2 * d_h2_d_w3   \n",
    "                self.w4 -= lr * d_L_d_ypred * d_ypred_d_h2 * d_h2_d_w4\n",
    "                self.b2 -= lr * d_L_d_ypred * d_ypred_d_h2 * d_h2_d_b2 \n",
    "\n",
    "                # Neuron O1\n",
    "                self.w5 -= lr * d_L_d_ypred * d_ypred_d_w5    \n",
    "                self.w6 -= lr * d_L_d_ypred * d_ypred_d_w6  \n",
    "                self.b3 -= lr * d_L_d_ypred * d_ypred_d_b3  \n",
    "\n",
    "        if epoch %10 ==0:\n",
    "            y_preds = np.apply_along_axis(self.feedForward,1,data)\n",
    "            loss = mse_loss (all_y_trues,y_preds)\n",
    "            print (\"Epoch %d loss: %.3f\" % (epoch, loss)  )\n",
    "        \n",
    "\n"
   ]
  },
  {
   "cell_type": "code",
   "execution_count": 51,
   "metadata": {},
   "outputs": [],
   "source": [
    "data =np.array([\n",
    "        [-2,-1],\n",
    "        [25,6],\n",
    "        [17,4],\n",
    "        [-15,-6],\n",
    "])\n",
    "all_y_trues =np.array([\n",
    "        1,\n",
    "        0,\n",
    "        0,\n",
    "        1,\n",
    "])"
   ]
  },
  {
   "cell_type": "code",
   "execution_count": 52,
   "metadata": {},
   "outputs": [],
   "source": [
    "nn= ANN()"
   ]
  },
  {
   "cell_type": "code",
   "execution_count": 53,
   "metadata": {},
   "outputs": [],
   "source": [
    "nn.train(data, all_y_trues) \n"
   ]
  }
 ],
 "metadata": {
  "kernelspec": {
   "display_name": "Python 3",
   "language": "python",
   "name": "python3"
  },
  "language_info": {
   "codemirror_mode": {
    "name": "ipython",
    "version": 3
   },
   "file_extension": ".py",
   "mimetype": "text/x-python",
   "name": "python",
   "nbconvert_exporter": "python",
   "pygments_lexer": "ipython3",
   "version": "3.12.2"
  }
 },
 "nbformat": 4,
 "nbformat_minor": 2
}
